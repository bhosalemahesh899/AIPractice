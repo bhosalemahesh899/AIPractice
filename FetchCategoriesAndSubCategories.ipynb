{
  "nbformat": 4,
  "nbformat_minor": 0,
  "metadata": {
    "colab": {
      "provenance": [],
      "authorship_tag": "ABX9TyMlyBXfTu7swGBCGYjkYUKe",
      "include_colab_link": true
    },
    "kernelspec": {
      "name": "python3",
      "display_name": "Python 3"
    },
    "language_info": {
      "name": "python"
    }
  },
  "cells": [
    {
      "cell_type": "markdown",
      "metadata": {
        "id": "view-in-github",
        "colab_type": "text"
      },
      "source": [
        "<a href=\"https://colab.research.google.com/github/bhosalemahesh899/AIPractice/blob/main/FetchCategoriesAndSubCategories.ipynb\" target=\"_parent\"><img src=\"https://colab.research.google.com/assets/colab-badge.svg\" alt=\"Open In Colab\"/></a>"
      ]
    },
    {
      "cell_type": "code",
      "source": [
        "#!pip install --upgrade openai httpx"
      ],
      "metadata": {
        "colab": {
          "base_uri": "https://localhost:8080/"
        },
        "collapsed": true,
        "id": "JGg5CyaxszZ7",
        "outputId": "21a96052-5a19-4e15-bd0e-671317b0530b"
      },
      "execution_count": 6,
      "outputs": [
        {
          "output_type": "stream",
          "name": "stdout",
          "text": [
            "Requirement already satisfied: openai in /usr/local/lib/python3.10/dist-packages (1.54.5)\n",
            "Collecting openai\n",
            "  Downloading openai-1.58.1-py3-none-any.whl.metadata (27 kB)\n",
            "Requirement already satisfied: httpx in /usr/local/lib/python3.10/dist-packages (0.28.1)\n",
            "Requirement already satisfied: anyio<5,>=3.5.0 in /usr/local/lib/python3.10/dist-packages (from openai) (3.7.1)\n",
            "Requirement already satisfied: distro<2,>=1.7.0 in /usr/local/lib/python3.10/dist-packages (from openai) (1.9.0)\n",
            "Requirement already satisfied: jiter<1,>=0.4.0 in /usr/local/lib/python3.10/dist-packages (from openai) (0.8.2)\n",
            "Requirement already satisfied: pydantic<3,>=1.9.0 in /usr/local/lib/python3.10/dist-packages (from openai) (2.10.3)\n",
            "Requirement already satisfied: sniffio in /usr/local/lib/python3.10/dist-packages (from openai) (1.3.1)\n",
            "Requirement already satisfied: tqdm>4 in /usr/local/lib/python3.10/dist-packages (from openai) (4.66.6)\n",
            "Requirement already satisfied: typing-extensions<5,>=4.11 in /usr/local/lib/python3.10/dist-packages (from openai) (4.12.2)\n",
            "Requirement already satisfied: certifi in /usr/local/lib/python3.10/dist-packages (from httpx) (2024.8.30)\n",
            "Requirement already satisfied: httpcore==1.* in /usr/local/lib/python3.10/dist-packages (from httpx) (1.0.7)\n",
            "Requirement already satisfied: idna in /usr/local/lib/python3.10/dist-packages (from httpx) (3.10)\n",
            "Requirement already satisfied: h11<0.15,>=0.13 in /usr/local/lib/python3.10/dist-packages (from httpcore==1.*->httpx) (0.14.0)\n",
            "Requirement already satisfied: exceptiongroup in /usr/local/lib/python3.10/dist-packages (from anyio<5,>=3.5.0->openai) (1.2.2)\n",
            "Requirement already satisfied: annotated-types>=0.6.0 in /usr/local/lib/python3.10/dist-packages (from pydantic<3,>=1.9.0->openai) (0.7.0)\n",
            "Requirement already satisfied: pydantic-core==2.27.1 in /usr/local/lib/python3.10/dist-packages (from pydantic<3,>=1.9.0->openai) (2.27.1)\n",
            "Downloading openai-1.58.1-py3-none-any.whl (454 kB)\n",
            "\u001b[2K   \u001b[90m━━━━━━━━━━━━━━━━━━━━━━━━━━━━━━━━━━━━━━━━\u001b[0m \u001b[32m454.3/454.3 kB\u001b[0m \u001b[31m8.7 MB/s\u001b[0m eta \u001b[36m0:00:00\u001b[0m\n",
            "\u001b[?25hInstalling collected packages: openai\n",
            "  Attempting uninstall: openai\n",
            "    Found existing installation: openai 1.54.5\n",
            "    Uninstalling openai-1.54.5:\n",
            "      Successfully uninstalled openai-1.54.5\n",
            "Successfully installed openai-1.58.1\n"
          ]
        }
      ]
    },
    {
      "cell_type": "code",
      "execution_count": 1,
      "metadata": {
        "colab": {
          "base_uri": "https://localhost:8080/"
        },
        "collapsed": true,
        "id": "p1aK-wpXsaNc",
        "outputId": "0ec08bff-f5d0-4c84-add5-0a1d4e9096e7"
      },
      "outputs": [
        {
          "output_type": "stream",
          "name": "stdout",
          "text": [
            "Requirement already satisfied: openai in /usr/local/lib/python3.10/dist-packages (1.58.1)\n",
            "Requirement already satisfied: httpx==0.27.2 in /usr/local/lib/python3.10/dist-packages (0.27.2)\n",
            "Requirement already satisfied: anyio in /usr/local/lib/python3.10/dist-packages (from httpx==0.27.2) (4.7.0)\n",
            "Requirement already satisfied: certifi in /usr/local/lib/python3.10/dist-packages (from httpx==0.27.2) (2024.12.14)\n",
            "Requirement already satisfied: httpcore==1.* in /usr/local/lib/python3.10/dist-packages (from httpx==0.27.2) (1.0.7)\n",
            "Requirement already satisfied: idna in /usr/local/lib/python3.10/dist-packages (from httpx==0.27.2) (3.10)\n",
            "Requirement already satisfied: sniffio in /usr/local/lib/python3.10/dist-packages (from httpx==0.27.2) (1.3.1)\n",
            "Requirement already satisfied: h11<0.15,>=0.13 in /usr/local/lib/python3.10/dist-packages (from httpcore==1.*->httpx==0.27.2) (0.14.0)\n",
            "Requirement already satisfied: distro<2,>=1.7.0 in /usr/local/lib/python3.10/dist-packages (from openai) (1.9.0)\n",
            "Requirement already satisfied: jiter<1,>=0.4.0 in /usr/local/lib/python3.10/dist-packages (from openai) (0.8.2)\n",
            "Requirement already satisfied: pydantic<3,>=1.9.0 in /usr/local/lib/python3.10/dist-packages (from openai) (2.10.3)\n",
            "Requirement already satisfied: tqdm>4 in /usr/local/lib/python3.10/dist-packages (from openai) (4.67.1)\n",
            "Requirement already satisfied: typing-extensions<5,>=4.11 in /usr/local/lib/python3.10/dist-packages (from openai) (4.12.2)\n",
            "Requirement already satisfied: exceptiongroup>=1.0.2 in /usr/local/lib/python3.10/dist-packages (from anyio->httpx==0.27.2) (1.2.2)\n",
            "Requirement already satisfied: annotated-types>=0.6.0 in /usr/local/lib/python3.10/dist-packages (from pydantic<3,>=1.9.0->openai) (0.7.0)\n",
            "Requirement already satisfied: pydantic-core==2.27.1 in /usr/local/lib/python3.10/dist-packages (from pydantic<3,>=1.9.0->openai) (2.27.1)\n"
          ]
        }
      ],
      "source": [
        "#!pip install --upgrade openai httpx==0.27.2 # Downgrade httpx to a compatible version\n",
        "!pip install openai httpx==0.27.2 # --force-reinstall\n",
        "\n",
        "from openai import OpenAI\n",
        "from google.colab import userdata\n",
        "key = userdata.get('cysOpenAIClass')\n",
        "client = OpenAI(api_key=key)\n",
        "\n",
        "assistant = client.beta.assistants.create(\n",
        "name=\"Financial Analyst Assistant\",\n",
        "instructions=\"You are an expert open answer survay analyst. Use you knowledge base to answer questions about the categories and subcategories and keywords.\",\n",
        "model=\"gpt-4o\",\n",
        "tools=[{\"type\": \"file_search\"}],\n",
        ")"
      ]
    },
    {
      "cell_type": "code",
      "source": [
        "# Create a vector store caled \"Open answers or comments\"\n",
        "vector_store = client.beta.vector_stores.create(name=\"Open answers or comments\")\n",
        "\n",
        "# Ready the files for upload to OpenAI\n",
        "file_paths = [\"/content/sample_data/fileToAnalyze_OnlyAns.json\"]\n",
        "file_streams = [open(path, \"rb\") for path in file_paths]\n",
        "\n",
        "# Use the upload and poll SDK helper to upload the files, add them to the vector store,\n",
        "# and poll the status of the file batch for completion.\n",
        "file_batch = client.beta.vector_stores.file_batches.upload_and_poll(\n",
        "vector_store_id=vector_store.id, files=file_streams\n",
        ")\n",
        "\n",
        "# You can print the status and the file counts of the batch to see the result of this operation.\n",
        "print(file_batch.status)\n",
        "print(file_batch.file_counts)"
      ],
      "metadata": {
        "colab": {
          "base_uri": "https://localhost:8080/"
        },
        "id": "8zeqR3IByRnv",
        "outputId": "dc88cc0b-25ea-467d-a4b4-b76d9f8ba4ee"
      },
      "execution_count": 2,
      "outputs": [
        {
          "output_type": "stream",
          "name": "stdout",
          "text": [
            "completed\n",
            "FileCounts(cancelled=0, completed=1, failed=0, in_progress=0, total=1)\n"
          ]
        }
      ]
    },
    {
      "cell_type": "code",
      "source": [
        "assistant = client.beta.assistants.update(\n",
        "assistant_id=assistant.id,\n",
        "tool_resources={\"file_search\": {\"vector_store_ids\": [vector_store.id]}},\n",
        ")"
      ],
      "metadata": {
        "id": "WEOC-sAOy1YH"
      },
      "execution_count": 3,
      "outputs": []
    },
    {
      "cell_type": "code",
      "source": [
        "# Upload the user provided file to OpenAI\n",
        "message_file = client.files.create(\n",
        "file=open(\"/content/sample_data/fileToAnalyze_OnlyAns.json\", \"rb\"), purpose=\"assistants\")\n",
        "\n",
        "# Create a thread and attach the file to the message\n",
        "thread = client.beta.threads.create(\n",
        "messages=[\n",
        "  {\n",
        "    \"role\": \"user\",\n",
        "    \"content\": \"Analyze all comments and fetch categories, sub-category and keywords for each open answer\",\n",
        "    # Attach the new file to the message.\n",
        "    \"attachments\": [\n",
        "      { \"file_id\": message_file.id, \"tools\": [{\"type\": \"file_search\"}] }\n",
        "    ],\n",
        "  }\n",
        "]\n",
        ")\n",
        "\n",
        "# The thread now has a vector store with that file in its tool resources.\n",
        "print(thread.tool_resources.file_search)"
      ],
      "metadata": {
        "colab": {
          "base_uri": "https://localhost:8080/"
        },
        "id": "SlchUYF6y8VQ",
        "outputId": "2b19f52a-0ba8-42d0-dc97-46febf5cd948"
      },
      "execution_count": 4,
      "outputs": [
        {
          "output_type": "stream",
          "name": "stdout",
          "text": [
            "ToolResourcesFileSearch(vector_store_ids=['vs_AeHhoeeTw09ixhnjmhWe3wdM'])\n"
          ]
        }
      ]
    },
    {
      "cell_type": "code",
      "source": [
        "from typing_extensions import override\n",
        "from openai import AssistantEventHandler, OpenAI\n",
        "\n",
        "#client = OpenAI()\n",
        "\n",
        "class EventHandler(AssistantEventHandler):\n",
        "  @override\n",
        "  def on_text_created(self, text) -> None:\n",
        "      print(f\"\\nassistant > \", end=\"\", flush=True)\n",
        "\n",
        "  @override\n",
        "  def on_tool_call_created(self, tool_call):\n",
        "      print(f\"\\nassistant > {tool_call.type}\\n\", flush=True)\n",
        "\n",
        "  @override\n",
        "  def on_message_done(self, message) -> None:\n",
        "      # print a citation to the file searched\n",
        "      message_content = message.content[0].text\n",
        "      annotations = message_content.annotations\n",
        "      citations = []\n",
        "      for index, annotation in enumerate(annotations):\n",
        "          message_content.value = message_content.value.replace(\n",
        "              annotation.text, f\"[{index}]\"\n",
        "          )\n",
        "          if file_citation := getattr(annotation, \"file_citation\", None):\n",
        "              cited_file = client.files.retrieve(file_citation.file_id)\n",
        "              citations.append(f\"[{index}] {cited_file.filename}\")\n",
        "\n",
        "      print(message_content.value)\n",
        "      print(\"\\n\".join(citations))\n",
        "\n",
        "\n",
        "# Then, we use the stream SDK helper\n",
        "# with the EventHandler class to create the Run\n",
        "# and stream the response.\n",
        "\n",
        "with client.beta.threads.runs.stream(\n",
        "  thread_id=thread.id,\n",
        "  assistant_id=assistant.id,\n",
        "  instructions=\"Please address the user as Jane Doe. The user has a premium account.\",\n",
        "  event_handler=EventHandler(),\n",
        ") as stream:\n",
        "  stream.until_done()"
      ],
      "metadata": {
        "colab": {
          "base_uri": "https://localhost:8080/"
        },
        "id": "PxnEMABIzvc7",
        "outputId": "8b583bd6-0736-4a23-a1c9-38781c67d2e6"
      },
      "execution_count": 6,
      "outputs": [
        {
          "output_type": "stream",
          "name": "stdout",
          "text": [
            "\n",
            "assistant > file_search\n",
            "\n",
            "\n",
            "assistant > Here is the analysis of the comments with categories, sub-categories, and keywords for each open answer:\n",
            "\n",
            "1. **Category**: Pricing  \n",
            "   - **Sub-category**: High Prices  \n",
            "   - **Keywords**: high prices, quality, value, cost[0]\n",
            "\n",
            "2. **Category**: Transparency  \n",
            "   - **Sub-category**: Hidden Fees  \n",
            "   - **Keywords**: pricing, hidden fees, transparency, deceptive[0]\n",
            "\n",
            "3. **Category**: Delivery  \n",
            "   - **Sub-category**: Delays  \n",
            "   - **Keywords**: delivery, express shipping, late, updates[0]\n",
            "\n",
            "4. **Category**: Packaging  \n",
            "   - **Sub-category**: Damaged  \n",
            "   - **Keywords**: packaging, damaged, securely, quality[0]\n",
            "\n",
            "5. **Category**: Product Quality  \n",
            "   - **Sub-category**: Low Quality  \n",
            "   - **Keywords**: low quality, cheap, brand[0]\n",
            "\n",
            "6. **Category**: Usability  \n",
            "   - **Sub-category**: Complicated Products  \n",
            "   - **Keywords**: complicated, instructions, user-friendly[0]\n",
            "\n",
            "7. **Category**: Customer Service  \n",
            "   - **Sub-category**: Care and Empathy  \n",
            "   - **Keywords**: customer service, care, empathy[0]\n",
            "\n",
            "8. **Category**: Knowledge  \n",
            "   - **Sub-category**: Uninformed Representatives  \n",
            "   - **Keywords**: representative, questions, uninformed[0]\n",
            "\n",
            "9. **Category**: Website UX  \n",
            "   - **Sub-category**: Confusing Layout  \n",
            "   - **Keywords**: website layout, confusing, find items[0]\n",
            "\n",
            "10. **Category**: Search Functionality  \n",
            "    - **Sub-category**: Irrelevant Results  \n",
            "    - **Keywords**: search function, basic, relevant results[0]\n",
            "\n",
            "11. **Category**: Promotions  \n",
            "    - **Sub-category**: Lack of Offers  \n",
            "    - **Keywords**: discounts, special offers, promotions[0]\n",
            "\n",
            "12. **Category**: Billing  \n",
            "    - **Sub-category**: Overcharging  \n",
            "    - **Keywords**: overcharged, bill, advertised prices[0]\n",
            "\n",
            "13. **Category**: Delivery Tracking  \n",
            "    - **Sub-category**: Lack of Updates  \n",
            "    - **Keywords**: track order, delivery updates, status[0]\n",
            "\n",
            "14. **Category**: Product Information  \n",
            "    - **Sub-category**: Insufficient Descriptions  \n",
            "    - **Keywords**: product description, vague, information[0]\n",
            "\n",
            "15. **Category**: Communication  \n",
            "    - **Sub-category**: Misleading Promotions  \n",
            "    - **Keywords**: promotions, misleading, discount[0]\n",
            "\n",
            "16. **Category**: Customer Support  \n",
            "    - **Sub-category**: Poor Communication  \n",
            "    - **Keywords**: representative, communicate, explain[0]\n",
            "\n",
            "This analysis categorizes user comments into major themes identified from the data, with relevant sub-categories and keywords highlighting specific areas of concern or feedback.\n",
            "[0] fileToAnalyze_OnlyAns.json\n",
            "[1] fileToAnalyze_OnlyAns.json\n",
            "[2] fileToAnalyze_OnlyAns.json\n",
            "[3] fileToAnalyze_OnlyAns.json\n",
            "[4] fileToAnalyze_OnlyAns.json\n",
            "[5] fileToAnalyze_OnlyAns.json\n",
            "[6] fileToAnalyze_OnlyAns.json\n",
            "[7] fileToAnalyze_OnlyAns.json\n",
            "[8] fileToAnalyze_OnlyAns.json\n",
            "[9] fileToAnalyze_OnlyAns.json\n",
            "[10] fileToAnalyze_OnlyAns.json\n",
            "[11] fileToAnalyze_OnlyAns.json\n",
            "[12] fileToAnalyze_OnlyAns.json\n",
            "[13] fileToAnalyze_OnlyAns.json\n",
            "[14] fileToAnalyze_OnlyAns.json\n",
            "[15] fileToAnalyze_OnlyAns.json\n"
          ]
        }
      ]
    }
  ]
}