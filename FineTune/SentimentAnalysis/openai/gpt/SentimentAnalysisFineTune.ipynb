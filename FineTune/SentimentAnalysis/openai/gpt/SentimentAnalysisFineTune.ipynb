{
 "cells": [
  {
   "cell_type": "markdown",
   "metadata": {
    "colab_type": "text",
    "id": "view-in-github"
   },
   "source": [
    "<a href=\"https://colab.research.google.com/github/bhosalemahesh899/AIPractice/blob/main/openai/gpt/TextClassificationFineTune.ipynb\" target=\"_parent\"><img src=\"https://colab.research.google.com/assets/colab-badge.svg\" alt=\"Open In Colab\"/></a>"
   ]
  },
  {
   "cell_type": "markdown",
   "metadata": {
    "id": "10zRJA5cWOLW"
   },
   "source": [
    "# Funetune GPT 3.5 Model in open ai for sentimet analysis\n",
    "\n",
    "- This link is source for reference\n",
    "https://github.com/PradipNichite/Youtube-Tutorials/blob/main/GPT3.5%20Finetuning/GPT_3_5_Finetuning_Tutorial.ipynb\n",
    "\n"
   ]
  },
  {
   "cell_type": "code",
   "execution_count": null,
   "metadata": {
    "colab": {
     "base_uri": "https://localhost:8080/"
    },
    "collapsed": true,
    "id": "Oeh_3OolUSGc",
    "outputId": "704baeaf-6f25-4b3e-fac2-1e0796758238"
   },
   "outputs": [],
   "source": [
    "!pip install -U openai"
   ]
  },
  {
   "cell_type": "code",
   "execution_count": null,
   "metadata": {
    "colab": {
     "base_uri": "https://localhost:8080/",
     "height": 206
    },
    "id": "7EIoR3baUtyx",
    "outputId": "33e8aee1-37c3-4ce2-a647-621c5ea7aa27"
   },
   "outputs": [],
   "source": [
    "import pandas as pd\n",
    "df = pd.read_json(\"/content/data_all_combined.json\")\n",
    "df.head()"
   ]
  },
  {
   "cell_type": "code",
   "execution_count": 4,
   "metadata": {
    "id": "qabmxTK-bzud"
   },
   "outputs": [],
   "source": [
    "cats = pd.read_json(\"/content/categories.json\")\n",
    "cats.head()\n",
    "\n",
    "catsStr = str(cats)"
   ]
  },
  {
   "cell_type": "code",
   "execution_count": 29,
   "metadata": {
    "id": "0cSkKMviPpIL"
   },
   "outputs": [],
   "source": [
    "def convert_to_gpt35_format2(sysIns, dataset):\n",
    "    fine_tuning_data = []\n",
    "    for _, row in dataset.iterrows():\n",
    "        result = \", \".join(row['Keywords'])\n",
    "        #print(result)\n",
    "        print(str(row['Keywords']))\n",
    "\n",
    "    return fine_tuning_data"
   ]
  },
  {
   "cell_type": "code",
   "execution_count": null,
   "metadata": {
    "id": "eo3xrlmaPrEc"
   },
   "outputs": [],
   "source": [
    "sysIns = 'You are sentiment analysis Agent. I have a set of open-ended responses, and I need you to classify each one into one of the following sentiments based on its content, Also fetch Net Promoter Score score from the open ended answer 100 point scale: Labels: 1. Positive, 2. Negative, 3. Neutral. Sentiment and NPS should not be empty, Please provide the most suitable sentiment, Sentiment Percentage and NPS score in json format { \"Sentiment\": \"\", Percentage:30, NPS100Point: 1 }';\n",
    "converted_data = convert_to_gpt35_format2(sysIns, df)\n"
   ]
  },
  {
   "cell_type": "code",
   "execution_count": null,
   "metadata": {
    "id": "0xfMkA6zF6Ab"
   },
   "outputs": [],
   "source": [
    "def convert_to_gpt35_format(sysIns, dataset):\n",
    "    fine_tuning_data = []\n",
    "    for _, row in dataset.iterrows():\n",
    "        row['Category'];\n",
    "        json_response = '{\"Sentiment\": \"' + row['Sentiment'] + '\", \"SentimentPercentage\": \"' + row['SentimentPercentage'] + '\", , \"NPS\": \"' + str(row['NPS']) + '\"}'\n",
    "        fine_tuning_data.append({\n",
    "            \"messages\": [\n",
    "                {\"role\": \"system\", \"content\": sysIns},\n",
    "                {\"role\": \"user\", \"content\": row['Answer']},\n",
    "                {\"role\": \"assistant\", \"content\": json_response}\n",
    "            ]\n",
    "        })\n",
    "    return fine_tuning_data\n"
   ]
  },
  {
   "cell_type": "code",
   "execution_count": null,
   "metadata": {
    "colab": {
     "base_uri": "https://localhost:8080/"
    },
    "id": "USlYnL1CNT6O",
    "outputId": "6c8cc4f7-5657-414d-af6d-8616895e6e37"
   },
   "outputs": [],
   "source": [
    "sysIns = 'You are text classification Agent. I have a set of open-ended responses, and I need you to classify each one into one of the following category and sub category based on its content. Please fetch keywords as well. The output json format should be {\"Category\": \"\",\"SubCategory\":\"\",\"Keywords\":[\"\",\"\"]}';\n",
    "converted_data = convert_to_gpt35_format(sysIns, df)\n",
    "converted_data[0]['messages']"
   ]
  },
  {
   "cell_type": "code",
   "execution_count": null,
   "metadata": {
    "colab": {
     "base_uri": "https://localhost:8080/",
     "height": 35
    },
    "id": "ca5Xff-_Ro7X",
    "outputId": "bc4aa3eb-45fd-4556-babd-476507aa82c5"
   },
   "outputs": [],
   "source": [
    "import json\n",
    "converted_data[0]['messages'][-1]['content']\n",
    "#json.loads(converted_data[0]['messages'][1]['content'])"
   ]
  },
  {
   "cell_type": "code",
   "execution_count": 51,
   "metadata": {
    "id": "MiLcxpkDjM2N"
   },
   "outputs": [],
   "source": [
    "from sklearn.model_selection import train_test_split\n",
    "\n",
    "# Stratified splitting. Assuming 'Top Category' can be used for stratification\n",
    "train_data, val_data = train_test_split(\n",
    "    converted_data,\n",
    "    test_size=0.2,\n",
    "    stratify=df['Category'],\n",
    "    random_state=42  # for reproducibility\n",
    ")\n"
   ]
  },
  {
   "cell_type": "code",
   "execution_count": null,
   "metadata": {
    "colab": {
     "base_uri": "https://localhost:8080/"
    },
    "id": "EEg3OZmYTvCS",
    "outputId": "b7511ef7-7af4-4fdb-f774-325efbb15b16"
   },
   "outputs": [],
   "source": [
    "type(train_data[0])"
   ]
  },
  {
   "cell_type": "code",
   "execution_count": 53,
   "metadata": {
    "id": "sHhrlFDITziZ"
   },
   "outputs": [],
   "source": [
    "def write_to_jsonl(data, file_path):\n",
    "    with open(file_path, 'w') as file:\n",
    "        for entry in data:\n",
    "            json.dump(entry, file)\n",
    "            file.write('\\n')\n",
    "\n",
    "\n",
    "training_file_name = \"train.jsonl\"\n",
    "validation_file_name = \"val.jsonl\"\n",
    "\n",
    "write_to_jsonl(train_data, training_file_name)\n",
    "write_to_jsonl(val_data, validation_file_name)"
   ]
  },
  {
   "cell_type": "code",
   "execution_count": 54,
   "metadata": {
    "id": "biT7ijkwUYPe"
   },
   "outputs": [],
   "source": [
    "from openai import OpenAI\n",
    "from google.colab import userdata\n",
    "\n",
    "client = OpenAI(api_key=userdata.get('cysOpenAIClass'))"
   ]
  },
  {
   "cell_type": "code",
   "execution_count": null,
   "metadata": {
    "colab": {
     "base_uri": "https://localhost:8080/"
    },
    "id": "C5eA15dPVi3w",
    "outputId": "a5e7dcf2-4088-476a-ae6f-3f6b60386b82"
   },
   "outputs": [],
   "source": [
    "training_file = client.files.create(\n",
    "    file=open(training_file_name, \"rb\"), purpose=\"fine-tune\"\n",
    ")\n",
    "validation_file = client.files.create(\n",
    "    file=open(validation_file_name, \"rb\"), purpose=\"fine-tune\"\n",
    ")\n",
    "\n",
    "print(\"Training file id:\", training_file.id)\n",
    "print(\"Validation file id:\", validation_file.id)"
   ]
  },
  {
   "cell_type": "code",
   "execution_count": null,
   "metadata": {
    "colab": {
     "base_uri": "https://localhost:8080/"
    },
    "id": "QWWNh782VviO",
    "outputId": "5818099b-690f-42ea-8e4e-3899131f3357"
   },
   "outputs": [],
   "source": [
    "suffix_name = \"cys_text_class1\"\n",
    "\n",
    "response = client.fine_tuning.jobs.create(\n",
    "    training_file=training_file.id,\n",
    "    validation_file=validation_file.id,\n",
    "    model=\"gpt-3.5-turbo\",\n",
    "    suffix=suffix_name,\n",
    ")\n",
    "response"
   ]
  },
  {
   "cell_type": "code",
   "execution_count": null,
   "metadata": {
    "colab": {
     "base_uri": "https://localhost:8080/"
    },
    "id": "wuQbP4ZXV86H",
    "outputId": "7f4a91f8-fcc5-4d91-dd3e-ff03260cf654"
   },
   "outputs": [],
   "source": [
    "client.fine_tuning.jobs.list(limit=10)"
   ]
  },
  {
   "cell_type": "code",
   "execution_count": null,
   "metadata": {
    "colab": {
     "base_uri": "https://localhost:8080/"
    },
    "id": "Jsr0pLqAWFRC",
    "outputId": "897abcdc-c46a-464a-a01e-34e6ecc5f7f3"
   },
   "outputs": [],
   "source": [
    "response2 = client.fine_tuning.jobs.retrieve(\"ftjob-Vm1EFEyXyiTZbKEDMDfbAbBp\")\n",
    "response2"
   ]
  },
  {
   "cell_type": "code",
   "execution_count": null,
   "metadata": {
    "colab": {
     "base_uri": "https://localhost:8080/"
    },
    "id": "IksOVfZuWLVW",
    "outputId": "bb4fba7f-37f4-48ed-cbb2-3a6507e0d7fe"
   },
   "outputs": [],
   "source": [
    "fine_tuned_model_id = response2.fine_tuned_model\n",
    "print(\"\\nFine-tuned model id:\", fine_tuned_model_id)"
   ]
  },
  {
   "cell_type": "code",
   "execution_count": 69,
   "metadata": {
    "id": "hX-1YbjEYUkG"
   },
   "outputs": [],
   "source": [
    "from sklearn.metrics import accuracy_score, precision_score, recall_score, f1_score\n",
    "\n",
    "def format_test(row):\n",
    "    formatted_message = [{\"role\": \"user\", \"content\": row['Answer']}]\n",
    "    return formatted_message\n",
    "\n",
    "\n",
    "def predict(test_messages, fine_tuned_model_id):\n",
    "    response = client.chat.completions.create(model=fine_tuned_model_id, messages=test_messages, temperature=0, max_tokens=50)\n",
    "    return response.choices[0].message.content"
   ]
  },
  {
   "cell_type": "code",
   "execution_count": 70,
   "metadata": {
    "id": "hPs1drMCY5kq"
   },
   "outputs": [],
   "source": [
    "def store_predictions(test_df, fine_tuned_model_id):\n",
    "    print(\"fine_tuned_model_id\",fine_tuned_model_id)\n",
    "    test_df['Prediction'] = None\n",
    "\n",
    "    for index, row in test_df.iterrows():\n",
    "        test_message = format_test(row)\n",
    "        prediction_result = predict(test_message, fine_tuned_model_id)\n",
    "        test_df.at[index, 'Prediction'] = prediction_result\n",
    "\n",
    "    test_df.to_csv(\"predictions.csv\")"
   ]
  },
  {
   "cell_type": "code",
   "execution_count": null,
   "metadata": {
    "colab": {
     "base_uri": "https://localhost:8080/"
    },
    "id": "zjL3fSjcZC29",
    "outputId": "e3686044-5c16-4da3-cb05-84c90798033a"
   },
   "outputs": [],
   "source": [
    "test_df = pd.read_json(\"/content/data_to_test_after_training.json\")\n",
    "store_predictions(test_df, fine_tuned_model_id)\n",
    "\n",
    "# test model"
   ]
  }
 ],
 "metadata": {
  "colab": {
   "authorship_tag": "ABX9TyOvm4e4QliwftscWDCnhJjJ",
   "include_colab_link": true,
   "provenance": []
  },
  "kernelspec": {
   "display_name": "Python 3",
   "name": "python3"
  },
  "language_info": {
   "name": "python"
  }
 },
 "nbformat": 4,
 "nbformat_minor": 0
}
